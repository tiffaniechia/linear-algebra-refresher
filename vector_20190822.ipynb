{
 "cells": [
  {
   "cell_type": "code",
   "execution_count": 99,
   "metadata": {},
   "outputs": [],
   "source": [
    "from math import sqrt, acos, degrees\n",
    "from decimal import Decimal, getcontext\n",
    "\n",
    "getcontext().prec = 30\n",
    "\n",
    "class Vector(object):\n",
    "    def __init__(self, coordinates):\n",
    "        try:\n",
    "            if not coordinates:\n",
    "                raise ValueError\n",
    "            self.coordinates = tuple([Decimal(x) for x in coordinates])\n",
    "            self.dimension = len(coordinates)\n",
    "\n",
    "        except ValueError:\n",
    "            raise ValueError('The coordinates must be nonempty')\n",
    "\n",
    "        except TypeError:\n",
    "            raise TypeError('The coordinates must be an iterable')\n",
    "\n",
    "\n",
    "    def plus(self, v):            \n",
    "        new_coordinates = [x+y for x,y in zip(self.coordinates, v.coordinates)]\n",
    "        return Vector(new_coordinates)\n",
    "    \n",
    "    def minus(self, v):\n",
    "        new_coordinates = [x-y for x,y in zip(self.coordinates, v.coordinates)]\n",
    "        return Vector(new_coordinates)\n",
    "    \n",
    "    def times_scalar(self, c):\n",
    "        new_coordinates = [Decimal(c)*coordinate for coordinate in self.coordinates]\n",
    "        return Vector(new_coordinates)\n",
    "    \n",
    "    def magnitude(self):\n",
    "        return Decimal(sqrt(sum(coordinate**2 for coordinate in self.coordinates)))\n",
    "    \n",
    "    def dot_product(self, v):\n",
    "        return sum([x*y for x,y in zip(self.coordinates, v.coordinates)])\n",
    "    \n",
    "    def normalized(self):\n",
    "        try:\n",
    "            scalar = Decimal('1.0')/self.magnitude()\n",
    "            return self.times_scalar(scalar)\n",
    "        except ZeroDivisionError:\n",
    "            raise Exception(\"Cannot normalize the zero vector\")\n",
    "            \n",
    "    def angle_with(self, v, in_degrees=False):\n",
    "        try:\n",
    "            u1 = self.normalized()\n",
    "            u2 = v.normalized()\n",
    "            angle_in_radians = acos(round(u1.dot_product(u2),3))\n",
    "            return degrees(angle_in_radians)if in_degrees else angle_in_radians\n",
    "        except Exception as e:\n",
    "            if str(e) == \"Cannot normalize the zero vector\": \n",
    "                raise Exception(\"Cannot compute an angle with the zero vector\")\n",
    "            else:\n",
    "                raise e\n",
    "            \n",
    "    def is_orthogonal(self, v, tolerance=1e-10):\n",
    "        return abs(self.dot_product(v)) < tolerance\n",
    "    \n",
    "    def is_parallel(self, v):\n",
    "        return self.is_zero() or v.is_zero() or self.angle_with(v) == 0 or  self.angle_with(v, True) == 180\n",
    "    \n",
    "    def is_zero(self, tolerance=1e-10):\n",
    "        return self.magnitude() < tolerance\n",
    "        \n",
    "                 \n",
    "    def __str__(self):\n",
    "        return 'Vector: {}'.format(self.coordinates)\n",
    "\n",
    "    def __eq__(self, v):\n",
    "        return self.coordinates == v.coordinates"
   ]
  },
  {
   "cell_type": "code",
   "execution_count": 36,
   "metadata": {},
   "outputs": [
    {
     "name": "stdout",
     "output_type": "stream",
     "text": [
      "Vector: (1, 2, 3)\n"
     ]
    }
   ],
   "source": [
    "vector = Vector([1,2,3])\n",
    "print(vector)"
   ]
  },
  {
   "cell_type": "code",
   "execution_count": 37,
   "metadata": {},
   "outputs": [],
   "source": [
    "vector2 = Vector([1,2,3])\n",
    "vector3 = Vector([-1,2,3])"
   ]
  },
  {
   "cell_type": "code",
   "execution_count": 38,
   "metadata": {},
   "outputs": [
    {
     "data": {
      "text/plain": [
       "True"
      ]
     },
     "execution_count": 38,
     "metadata": {},
     "output_type": "execute_result"
    }
   ],
   "source": [
    "vector == vector2"
   ]
  },
  {
   "cell_type": "code",
   "execution_count": 39,
   "metadata": {},
   "outputs": [
    {
     "data": {
      "text/plain": [
       "False"
      ]
     },
     "execution_count": 39,
     "metadata": {},
     "output_type": "execute_result"
    }
   ],
   "source": [
    "vector == vector3"
   ]
  },
  {
   "cell_type": "code",
   "execution_count": 40,
   "metadata": {},
   "outputs": [
    {
     "data": {
      "text/plain": [
       "[(1, -1), (2, 2), (3, 3)]"
      ]
     },
     "execution_count": 40,
     "metadata": {},
     "output_type": "execute_result"
    }
   ],
   "source": [
    "list(zip([1,2,3],[-1,2,3]))"
   ]
  },
  {
   "cell_type": "code",
   "execution_count": 41,
   "metadata": {},
   "outputs": [
    {
     "data": {
      "text/plain": [
       "[0, 4, 6]"
      ]
     },
     "execution_count": 41,
     "metadata": {},
     "output_type": "execute_result"
    }
   ],
   "source": [
    "[x+y for x,y in zip([1,2,3],[-1,2,3])]"
   ]
  },
  {
   "cell_type": "code",
   "execution_count": 42,
   "metadata": {},
   "outputs": [
    {
     "data": {
      "text/plain": [
       "[2, 4, 6]"
      ]
     },
     "execution_count": 42,
     "metadata": {},
     "output_type": "execute_result"
    }
   ],
   "source": [
    "[2*x for x in [1,2,3]]"
   ]
  },
  {
   "cell_type": "code",
   "execution_count": 43,
   "metadata": {},
   "outputs": [
    {
     "data": {
      "text/plain": [
       "0.5773502691896258"
      ]
     },
     "execution_count": 43,
     "metadata": {},
     "output_type": "execute_result"
    }
   ],
   "source": [
    "1/sqrt(3)"
   ]
  },
  {
   "cell_type": "code",
   "execution_count": 44,
   "metadata": {},
   "outputs": [
    {
     "name": "stdout",
     "output_type": "stream",
     "text": [
      "magnitude of vector 1 {} 7.44\n",
      "magnitude of vector 2 {} 10.884\n",
      "unit vector of vector 3 {} [0.934, -0.357]\n",
      "unit vector of vector 4 {} [0.34, 0.53, -0.777]\n"
     ]
    }
   ],
   "source": [
    "#normalisation quiz\n",
    "vector_1 = Vector([-0.221,7.437])\n",
    "print(\"magnitude of vector 1 \",round(vector_1.magnitude(),3))\n",
    "vector_2 = Vector([8.813,-1.331,-6.247])\n",
    "print(\"magnitude of vector 2 \",round(vector_2.magnitude(),3))\n",
    "vector_3 = Vector([5.581,-2.136])\n",
    "print(\"unit vector of vector 3 \", [round(x,3) for x in vector_3.normalized().coordinates])\n",
    "vector_4 = Vector([1.996,3.108,-4.554])\n",
    "print(\"unit vector of vector 4 \", [round(x,3) for x in vector_4.normalized().coordinates])"
   ]
  },
  {
   "cell_type": "code",
   "execution_count": 45,
   "metadata": {},
   "outputs": [
    {
     "name": "stdout",
     "output_type": "stream",
     "text": [
      "dot product of vector_5 and vector_6 is {} -41.382\n",
      "dot product of vector_7 and vector_8 is {} 56.397\n",
      "rad of vector_9 and vector_10 is {} 3.072\n",
      "rad of vector_9 and vector_10 is {} 60.276\n"
     ]
    }
   ],
   "source": [
    "#dot product quiz\n",
    "vector_5 = Vector([7.887,4.138])\n",
    "vector_6 = Vector([-8.802,6.776])\n",
    "print(\"dot product of vector_5 and vector_6 is \", round(vector_5.dot_product(vector_6),3))\n",
    "\n",
    "vector_7 = Vector([-5.955,-4.904,-1.874])\n",
    "vector_8 = Vector([-4.496,-8.755,7.103])\n",
    "print(\"dot product of vector_7 and vector_8 is \", round(vector_7.dot_product(vector_8),3))\n",
    "\n",
    "vector_9 = Vector([3.183,-7.627])\n",
    "vector_10 = Vector([-2.668,5.319])\n",
    "print(\"rad of vector_9 and vector_10 is \", round(vector_9.angle_with(vector_10),3))\n",
    "\n",
    "vector_11 = Vector([7.35,0.221,5.188])\n",
    "vector_12 = Vector([2.751,8.259,3.985])\n",
    "print(\"rad of vector_9 and vector_10 is \", round(vector_11.angle_with(vector_12, True),3))\n"
   ]
  },
  {
   "cell_type": "code",
   "execution_count": 104,
   "metadata": {},
   "outputs": [
    {
     "name": "stdout",
     "output_type": "stream",
     "text": [
      "vector_13 and vector_14 is parallel?  True\n",
      "vector_13 and vector_14 is orthogonal?  False\n",
      "vector_15 and vector_16 is parallel?  False\n",
      "vector_15 and vector_16 is orthogonal?  False\n",
      "vector_17 and vector_18 is parallel?  False\n",
      "vector_17 and vector_18 is orthogonal?  True\n"
     ]
    }
   ],
   "source": [
    "# parallel and orthogonal quiz\n",
    "vector_13 = Vector([-7.579,-7.88])\n",
    "vector_14 = Vector([22.737,23.64])\n",
    "print(\"vector_13 and vector_14 is parallel? \", vector_13.is_parallel(vector_14))\n",
    "print(\"vector_13 and vector_14 is orthogonal? \", vector_13.is_orthogonal(vector_14))\n",
    "\n",
    "vector_15 = Vector([-2.029,9.97,4.172])\n",
    "vector_16 = Vector([-9.231, -6.639,-7.245])\n",
    "print(\"vector_15 and vector_16 is parallel? \", vector_15.is_parallel(vector_16))\n",
    "print(\"vector_15 and vector_16 is orthogonal? \", vector_15.is_orthogonal(vector_16))\n",
    "\n",
    "vector_17 = Vector([-2.328,-7.284,-1.214])\n",
    "vector_18 = Vector([-1.821, 1.072,-2.94])\n",
    "print(\"vector_17 and vector_18 is parallel? \", vector_17.is_parallel(vector_18))\n",
    "print(\"vector_17 and vector_18 is orthogonal? \", vector_17.is_orthogonal(vector_18))\n",
    "\n",
    "vector_13 = Vector([2.118,4.827])\n",
    "vector_14 = Vector([22.737,23.64])\n",
    "print(\"vector_13 and vector_14 is parallel? \", vector_13.is_parallel(vector_14))\n",
    "print(\"vector_13 and vector_14 is orthogonal? \", vector_13.is_orthogonal(vector_14))"
   ]
  },
  {
   "cell_type": "code",
   "execution_count": null,
   "metadata": {},
   "outputs": [],
   "source": []
  }
 ],
 "metadata": {
  "kernelspec": {
   "display_name": "Python 3",
   "language": "python",
   "name": "python3"
  },
  "language_info": {
   "codemirror_mode": {
    "name": "ipython",
    "version": 3
   },
   "file_extension": ".py",
   "mimetype": "text/x-python",
   "name": "python",
   "nbconvert_exporter": "python",
   "pygments_lexer": "ipython3",
   "version": "3.7.6"
  }
 },
 "nbformat": 4,
 "nbformat_minor": 2
}
